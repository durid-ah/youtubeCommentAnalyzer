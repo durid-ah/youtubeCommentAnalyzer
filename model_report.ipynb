{
 "cells": [
  {
   "cell_type": "markdown",
   "source": [
    "# Choosing the Right Model:\n",
    "\n",
    "After training models using different parameters I will compare their training results in order to chose one for \n",
    "the project.\n",
    "\n",
    "#### Importing the necessary things: "
   ],
   "metadata": {
    "collapsed": false
   }
  },
  {
   "cell_type": "code",
   "execution_count": 1,
   "metadata": {
    "collapsed": true,
    "pycharm": {
     "name": "#%%\n",
     "is_executing": false
    }
   },
   "outputs": [],
   "source": [
    "import tabulate as tabulate\n",
    "from data_repository.sqlite_functions import create_connection\n",
    "from IPython.display import HTML, display\n",
    "import matplotlib.pyplot as plt"
   ]
  },
  {
   "cell_type": "markdown",
   "source": [
    "#### Setting up the query and connection:\n",
    "\n",
    "To train the models I used different epochs but it seemed that they didn't do much as a result I will only be comparing \n",
    "models with 5 epochs."
   ],
   "metadata": {
    "collapsed": false
   }
  },
  {
   "cell_type": "code",
   "source": [
    "result_query = \"\"\"  SELECT * FROM training_results\n",
    "                    WHERE epoch = 5 \"\"\"\n",
    "\n",
    "conn = create_connection(\"./data_repository/dataset.db\")\n",
    "cur = conn.cursor()\n",
    "cur.execute(result_query)\n",
    "rows = cur.fetchall()\n",
    "\n",
    "rows_lr_01 = list(filter(lambda x: x[2] == '0.1', rows))\n",
    "rows_lr_05 = list(filter(lambda x: x[2] == '0.5', rows))\n",
    "rows_lr_10 = list(filter(lambda x: x[2] == '1.0', rows))"
   ],
   "metadata": {
    "collapsed": false,
    "pycharm": {
     "name": "#%%\n",
     "is_executing": false
    }
   },
   "execution_count": 2,
   "outputs": []
  },
  {
   "cell_type": "markdown",
   "source": [
    "#### Plotting the different models:"
   ],
   "metadata": {
    "collapsed": false
   }
  },
  {
   "cell_type": "code",
   "execution_count": 3,
   "outputs": [
    {
     "data": {
      "text/plain": "<IPython.core.display.HTML object>",
      "text/html": "<table>\n<tbody>\n<tr><td style=\"text-align: right;\"> 1</td><td style=\"text-align: right;\">5</td><td style=\"text-align: right;\">0.1</td><td style=\"text-align: right;\">1</td><td style=\"text-align: right;\">0.693638</td><td style=\"text-align: right;\">0.693638</td></tr>\n<tr><td style=\"text-align: right;\"> 2</td><td style=\"text-align: right;\">5</td><td style=\"text-align: right;\">0.1</td><td style=\"text-align: right;\">3</td><td style=\"text-align: right;\">0.719124</td><td style=\"text-align: right;\">0.719124</td></tr>\n<tr><td style=\"text-align: right;\"> 3</td><td style=\"text-align: right;\">5</td><td style=\"text-align: right;\">0.1</td><td style=\"text-align: right;\">5</td><td style=\"text-align: right;\">0.703297</td><td style=\"text-align: right;\">0.703297</td></tr>\n<tr><td style=\"text-align: right;\"> 4</td><td style=\"text-align: right;\">5</td><td style=\"text-align: right;\">0.5</td><td style=\"text-align: right;\">1</td><td style=\"text-align: right;\">0.694619</td><td style=\"text-align: right;\">0.694619</td></tr>\n<tr><td style=\"text-align: right;\"> 5</td><td style=\"text-align: right;\">5</td><td style=\"text-align: right;\">0.5</td><td style=\"text-align: right;\">3</td><td style=\"text-align: right;\">0.708358</td><td style=\"text-align: right;\">0.708358</td></tr>\n<tr><td style=\"text-align: right;\"> 6</td><td style=\"text-align: right;\">5</td><td style=\"text-align: right;\">0.5</td><td style=\"text-align: right;\">5</td><td style=\"text-align: right;\">0.687286</td><td style=\"text-align: right;\">0.687286</td></tr>\n<tr><td style=\"text-align: right;\"> 7</td><td style=\"text-align: right;\">5</td><td style=\"text-align: right;\">1  </td><td style=\"text-align: right;\">1</td><td style=\"text-align: right;\">0.694242</td><td style=\"text-align: right;\">0.694242</td></tr>\n<tr><td style=\"text-align: right;\"> 8</td><td style=\"text-align: right;\">5</td><td style=\"text-align: right;\">1  </td><td style=\"text-align: right;\">3</td><td style=\"text-align: right;\">0.705912</td><td style=\"text-align: right;\">0.705912</td></tr>\n<tr><td style=\"text-align: right;\"> 9</td><td style=\"text-align: right;\">5</td><td style=\"text-align: right;\">1  </td><td style=\"text-align: right;\">5</td><td style=\"text-align: right;\">0.685555</td><td style=\"text-align: right;\">0.685555</td></tr>\n<tr><td style=\"text-align: right;\">11</td><td style=\"text-align: right;\">5</td><td style=\"text-align: right;\">0.1</td><td style=\"text-align: right;\">2</td><td style=\"text-align: right;\">0.721   </td><td style=\"text-align: right;\">0.721   </td></tr>\n</tbody>\n</table>"
     },
     "metadata": {},
     "output_type": "display_data"
    }
   ],
   "source": [
    "display(HTML(tabulate.tabulate(rows, tablefmt='html')))"
   ],
   "metadata": {
    "collapsed": false,
    "pycharm": {
     "name": "#%%\n",
     "is_executing": false
    }
   }
  },
  {
   "cell_type": "markdown",
   "source": [
    "##### Where learning rate = 0.1 and epoch = 5:"
   ],
   "metadata": {
    "collapsed": false,
    "pycharm": {
     "name": "#%% md\n"
    }
   }
  },
  {
   "cell_type": "code",
   "execution_count": 4,
   "outputs": [
    {
     "data": {
      "text/plain": "<Figure size 432x288 with 1 Axes>",
      "image/png": "[encoded data removed]"
     },
     "metadata": {
      "needs_background": "light"
     },
     "output_type": "display_data"
    }
   ],
   "source": [
    "x = list(map(lambda item : item[3], rows_lr_01))\n",
    "y = list(map(lambda item : float(item[4]), rows_lr_01))\n",
    "\n",
    "fig = plt.figure()\n",
    "ax = fig.add_subplot()\n",
    "ax.scatter(x, y)\n",
    "plt.show()"
   ],
   "metadata": {
    "collapsed": false,
    "pycharm": {
     "name": "#%%\n",
     "is_executing": false
    }
   }
  },
  {
   "cell_type": "markdown",
   "source": [
    "##### Where learning rate = 0.5 and epoch = 5:"
   ],
   "metadata": {
    "collapsed": false
   }
  },
  {
   "cell_type": "code",
   "execution_count": 5,
   "outputs": [
    {
     "data": {
      "text/plain": "<Figure size 432x288 with 1 Axes>",
      "image/png": "[encoded data removed]"
     },
     "metadata": {
      "needs_background": "light"
     },
     "output_type": "display_data"
    }
   ],
   "source": [
    "x1 = list(map(lambda item : item[3], rows_lr_05))\n",
    "y1 = list(map(lambda item : float(item[4]), rows_lr_05))\n",
    "\n",
    "fig = plt.figure()\n",
    "ax = fig.add_subplot()\n",
    "ax.scatter(x1, y1)\n",
    "plt.show()"
   ],
   "metadata": {
    "collapsed": false,
    "pycharm": {
     "name": "#%%\n",
     "is_executing": false
    }
   }
  },
  {
   "cell_type": "markdown",
   "source": [
    "##### Where learning rate = 1.0 and epoch = 5:"
   ],
   "metadata": {
    "collapsed": false
   }
  },
  {
   "cell_type": "code",
   "execution_count": 6,
   "outputs": [
    {
     "data": {
      "text/plain": "<Figure size 432x288 with 1 Axes>",
      "image/png": "[encoded data removed]"
     },
     "metadata": {
      "needs_background": "light"
     },
     "output_type": "display_data"
    }
   ],
   "source": [
    "x2 = list(map(lambda item : item[3], rows_lr_10))\n",
    "y2 = list(map(lambda item : float(item[4]), rows_lr_10))\n",
    "\n",
    "fig = plt.figure()\n",
    "ax = fig.add_subplot()\n",
    "ax.scatter(x2, y2)\n",
    "plt.show()"
   ],
   "metadata": {
    "collapsed": false,
    "pycharm": {
     "name": "#%%\n",
     "is_executing": false
    }
   }
  },
  {
   "cell_type": "markdown",
   "source": [
    "#### Conclusion:\n",
    "\n",
    "After comparing the different models it seems that the highest accuracy achieved is 72.1 % using a learning rate of 0.1,\n",
    "5 epochs and 2 word n grams."
   ],
   "metadata": {
    "collapsed": false,
    "pycharm": {
     "name": "#%% md\n"
    }
   }
  }
 ],
 "metadata": {
  "kernelspec": {
   "display_name": "Python 3",
   "language": "python",
   "name": "python3"
  },
  "language_info": {
   "codemirror_mode": {
    "name": "ipython",
    "version": 2
   },
   "file_extension": ".py",
   "mimetype": "text/x-python",
   "name": "python",
   "nbconvert_exporter": "python",
   "pygments_lexer": "ipython2",
   "version": "2.7.6"
  },
  "pycharm": {
   "stem_cell": {
    "cell_type": "raw",
    "source": [],
    "metadata": {
     "collapsed": false
    }
   }
  }
 },
 "nbformat": 4,
 "nbformat_minor": 0
}